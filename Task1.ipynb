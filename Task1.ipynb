{
 "cells": [
  {
   "cell_type": "code",
   "execution_count": 1,
   "id": "4e6c8434",
   "metadata": {},
   "outputs": [],
   "source": [
    "import cv2"
   ]
  },
  {
   "cell_type": "code",
   "execution_count": null,
   "id": "b81c5a3d",
   "metadata": {},
   "outputs": [],
   "source": [
    "Olivia = cv2.imread(\"olivia03.jpg\")"
   ]
  },
  {
   "cell_type": "code",
   "execution_count": null,
   "id": "ad97c49d",
   "metadata": {},
   "outputs": [],
   "source": [
    "Olivia"
   ]
  },
  {
   "cell_type": "code",
   "execution_count": null,
   "id": "1bc01574",
   "metadata": {},
   "outputs": [],
   "source": [
    "cv2.imshow(\"Image\", Olivia)\n",
    "cv2.waitKey(0)"
   ]
  },
  {
   "cell_type": "code",
   "execution_count": null,
   "id": "90d65538",
   "metadata": {},
   "outputs": [],
   "source": [
    "gray_image = cv2.cvtColor(Olivia, cv2.COLOR_BGR2GRAY)"
   ]
  },
  {
   "cell_type": "code",
   "execution_count": null,
   "id": "428ef44c",
   "metadata": {},
   "outputs": [],
   "source": [
    "cv2.imshow(\"Image\", gray_image)\n",
    "cv2.waitKey(0)"
   ]
  },
  {
   "cell_type": "code",
   "execution_count": null,
   "id": "03b0179f",
   "metadata": {},
   "outputs": [],
   "source": [
    "inverted_image = 255 - gray_image"
   ]
  },
  {
   "cell_type": "code",
   "execution_count": null,
   "id": "0534fe15",
   "metadata": {},
   "outputs": [],
   "source": [
    "cv2.imshow(\"Image\", inverted_image)\n",
    "cv2.waitKey(0)"
   ]
  },
  {
   "cell_type": "code",
   "execution_count": null,
   "id": "4e072d1d",
   "metadata": {},
   "outputs": [],
   "source": [
    "blurred1 = cv2.GaussianBlur(inverted_image, (31,31), 0)"
   ]
  },
  {
   "cell_type": "code",
   "execution_count": null,
   "id": "93e06567",
   "metadata": {},
   "outputs": [],
   "source": [
    "cv2.imshow(\"Image\", blurred1)\n",
    "cv2.waitKey(0)"
   ]
  },
  {
   "cell_type": "code",
   "execution_count": null,
   "id": "cb8ad9d2",
   "metadata": {},
   "outputs": [],
   "source": [
    "inverter_blur = 255 - blurred1"
   ]
  },
  {
   "cell_type": "code",
   "execution_count": null,
   "id": "eb3cf3f7",
   "metadata": {},
   "outputs": [],
   "source": [
    "cv2.imshow(\"Image\", inverter_blur)\n",
    "cv2.waitKey(0)"
   ]
  },
  {
   "cell_type": "code",
   "execution_count": null,
   "id": "910eacd2",
   "metadata": {},
   "outputs": [],
   "source": []
  }
 ],
 "metadata": {
  "kernelspec": {
   "display_name": "Python 3 (ipykernel)",
   "language": "python",
   "name": "python3"
  },
  "language_info": {
   "codemirror_mode": {
    "name": "ipython",
    "version": 3
   },
   "file_extension": ".py",
   "mimetype": "text/x-python",
   "name": "python",
   "nbconvert_exporter": "python",
   "pygments_lexer": "ipython3",
   "version": "3.11.0"
  }
 },
 "nbformat": 4,
 "nbformat_minor": 5
}
